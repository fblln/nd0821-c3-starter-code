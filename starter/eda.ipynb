{
 "cells": [
  {
   "cell_type": "code",
   "execution_count": 5,
   "id": "1aa7539d",
   "metadata": {},
   "outputs": [
    {
     "data": {
      "text/plain": [
       "Index(['age', ' workclass', ' fnlgt', ' education', ' education-num',\n",
       "       ' marital-status', ' occupation', ' relationship', ' race', ' sex',\n",
       "       ' capital-gain', ' capital-loss', ' hours-per-week', ' native-country',\n",
       "       ' salary'],\n",
       "      dtype='object')"
      ]
     },
     "execution_count": 5,
     "metadata": {},
     "output_type": "execute_result"
    }
   ],
   "source": [
    "import pandas as pd\n",
    "\n",
    "# Replace 'census_file.csv' with the path to your file\n",
    "census_file = 'data/census.csv'\n",
    "\n",
    "# Read the file into a DataFrame\n",
    "census_data = pd.read_csv(census_file)\n",
    "\n",
    "# Display the DataFrame\n",
    "census_data.columns"
   ]
  },
  {
   "cell_type": "code",
   "execution_count": 1,
   "id": "515f64bf",
   "metadata": {},
   "outputs": [
    {
     "name": "stdout",
     "output_type": "stream",
     "text": [
      "README.md                     model_card_template.md\n",
      "\u001b[1m\u001b[36mdata\u001b[m\u001b[m                          requirements.txt\n",
      "dvc_on_heroku_instructions.md sanitycheck.py\n",
      "eda.ipynb                     \u001b[1m\u001b[36mscreenshots\u001b[m\u001b[m\n",
      "main.py                       setup.py\n",
      "\u001b[1m\u001b[36mmodel\u001b[m\u001b[m                         \u001b[1m\u001b[36mstarter\u001b[m\u001b[m\n"
     ]
    }
   ],
   "source": [
    "!ls"
   ]
  }
 ],
 "metadata": {
  "kernelspec": {
   "display_name": "mlfastapi",
   "language": "python",
   "name": "python3"
  },
  "language_info": {
   "codemirror_mode": {
    "name": "ipython",
    "version": 3
   },
   "file_extension": ".py",
   "mimetype": "text/x-python",
   "name": "python",
   "nbconvert_exporter": "python",
   "pygments_lexer": "ipython3",
   "version": "3.8.20"
  }
 },
 "nbformat": 4,
 "nbformat_minor": 5
}
